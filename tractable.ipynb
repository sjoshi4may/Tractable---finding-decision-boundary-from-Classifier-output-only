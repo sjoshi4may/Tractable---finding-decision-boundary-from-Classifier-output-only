{
 "cells": [
  {
   "cell_type": "code",
   "execution_count": 1,
   "metadata": {
    "scrolled": true
   },
   "outputs": [
    {
     "data": {
      "text/html": [
       "\n",
       "        <iframe\n",
       "            width=\"1000\"\n",
       "            height=\"1000\"\n",
       "            src=\"Tractable_DS_Take_Home_Exercise (2) (1) (1).pdf\"\n",
       "            frameborder=\"0\"\n",
       "            allowfullscreen\n",
       "        ></iframe>\n",
       "        "
      ],
      "text/plain": [
       "<IPython.lib.display.IFrame at 0x10b9fdf98>"
      ]
     },
     "execution_count": 1,
     "metadata": {},
     "output_type": "execute_result"
    }
   ],
   "source": [
    "# Data science task - pdf file\n",
    "from IPython.display import IFrame\n",
    "IFrame(\"Tractable_DS_Take_Home_Exercise (2) (1) (1).pdf\",width=1000,height=1000)"
   ]
  },
  {
   "cell_type": "code",
   "execution_count": 2,
   "metadata": {
    "collapsed": true
   },
   "outputs": [],
   "source": [
    "# loading useful libraries\n",
    "import numpy as np\n",
    "import os\n",
    "import pandas as pd\n",
    "import matplotlib.pyplot as plt\n",
    "from sklearn.preprocessing import LabelEncoder\n",
    "from sklearn.metrics import f1_score,confusion_matrix,precision_score,recall_score\n",
    "%matplotlib inline"
   ]
  },
  {
   "cell_type": "code",
   "execution_count": 3,
   "metadata": {
    "collapsed": true,
    "scrolled": true
   },
   "outputs": [],
   "source": [
    "# reading the metadata. The metadata file is broken into severl files\n",
    "# All the metadata file ends with extension \".gz\" so we only read these files.\n",
    "meta_filepath = './metadata/'\n",
    "files = [file for file in os.listdir(meta_filepath) if file.endswith('.gz')] # creates a list of filenames\n",
    "frames=[]\n",
    "for file in files:\n",
    "    frames.append(pd.read_csv(meta_filepath+file))\n",
    "metadata = pd.concat(frames)"
   ]
  },
  {
   "cell_type": "code",
   "execution_count": 4,
   "metadata": {},
   "outputs": [
    {
     "name": "stdout",
     "output_type": "stream",
     "text": [
      "There are 192066 rows and 10 columns in metadata\n"
     ]
    }
   ],
   "source": [
    "print(f\"There are {metadata.shape[0]} rows and {metadata.shape[1]} columns in metadata\")"
   ]
  },
  {
   "cell_type": "code",
   "execution_count": 5,
   "metadata": {},
   "outputs": [
    {
     "data": {
      "text/html": [
       "<div>\n",
       "<style>\n",
       "    .dataframe thead tr:only-child th {\n",
       "        text-align: right;\n",
       "    }\n",
       "\n",
       "    .dataframe thead th {\n",
       "        text-align: left;\n",
       "    }\n",
       "\n",
       "    .dataframe tbody tr th {\n",
       "        vertical-align: top;\n",
       "    }\n",
       "</style>\n",
       "<table border=\"1\" class=\"dataframe\">\n",
       "  <thead>\n",
       "    <tr style=\"text-align: right;\">\n",
       "      <th></th>\n",
       "      <th>claim_id</th>\n",
       "      <th>make</th>\n",
       "      <th>model</th>\n",
       "      <th>year</th>\n",
       "      <th>poi</th>\n",
       "      <th>line_num</th>\n",
       "      <th>part</th>\n",
       "      <th>operation</th>\n",
       "      <th>part_price</th>\n",
       "      <th>labour_amt</th>\n",
       "    </tr>\n",
       "  </thead>\n",
       "  <tbody>\n",
       "  </tbody>\n",
       "</table>\n",
       "</div>"
      ],
      "text/plain": [
       "Empty DataFrame\n",
       "Columns: [claim_id, make, model, year, poi, line_num, part, operation, part_price, labour_amt]\n",
       "Index: []"
      ]
     },
     "execution_count": 5,
     "metadata": {},
     "output_type": "execute_result"
    }
   ],
   "source": [
    "# checking if there are any dulicate files in metadata\n",
    "metadata[metadata.duplicated()]"
   ]
  },
  {
   "cell_type": "code",
   "execution_count": 6,
   "metadata": {},
   "outputs": [
    {
     "name": "stdout",
     "output_type": "stream",
     "text": [
      "<class 'pandas.core.frame.DataFrame'>\n",
      "Int64Index: 192066 entries, 0 to 4800\n",
      "Data columns (total 10 columns):\n",
      "claim_id      192066 non-null int64\n",
      "make          192066 non-null object\n",
      "model         192066 non-null object\n",
      "year          192066 non-null int64\n",
      "poi           192066 non-null object\n",
      "line_num      192066 non-null int64\n",
      "part          192066 non-null object\n",
      "operation     192066 non-null object\n",
      "part_price    122068 non-null float64\n",
      "labour_amt    192066 non-null float64\n",
      "dtypes: float64(2), int64(3), object(5)\n",
      "memory usage: 16.1+ MB\n"
     ]
    }
   ],
   "source": [
    "metadata.info()"
   ]
  },
  {
   "cell_type": "markdown",
   "metadata": {},
   "source": [
    "There are some null values in part_price column of metadata. Since we're not using it for the first part of the analysis we'll just ignore it for now."
   ]
  },
  {
   "cell_type": "markdown",
   "metadata": {},
   "source": [
    "The most important part of metadata that we need for optimising the decision boundary of our URR classifier is the ground truth values in **operation** column. We'll read the classifier_output.csv file and combine the ground truth to the correct claim id and part"
   ]
  },
  {
   "cell_type": "code",
   "execution_count": 7,
   "metadata": {
    "collapsed": true
   },
   "outputs": [],
   "source": [
    "# reading classifier output\n",
    "clf_out = pd.read_csv('./classifier_output.csv')"
   ]
  },
  {
   "cell_type": "code",
   "execution_count": 8,
   "metadata": {},
   "outputs": [
    {
     "data": {
      "text/html": [
       "<div>\n",
       "<style>\n",
       "    .dataframe thead tr:only-child th {\n",
       "        text-align: right;\n",
       "    }\n",
       "\n",
       "    .dataframe thead th {\n",
       "        text-align: left;\n",
       "    }\n",
       "\n",
       "    .dataframe tbody tr th {\n",
       "        vertical-align: top;\n",
       "    }\n",
       "</style>\n",
       "<table border=\"1\" class=\"dataframe\">\n",
       "  <thead>\n",
       "    <tr style=\"text-align: right;\">\n",
       "      <th></th>\n",
       "      <th>claim_id</th>\n",
       "      <th>part</th>\n",
       "      <th>urr_score</th>\n",
       "      <th>set</th>\n",
       "    </tr>\n",
       "  </thead>\n",
       "  <tbody>\n",
       "    <tr>\n",
       "      <th>0</th>\n",
       "      <td>0</td>\n",
       "      <td>bbumper</td>\n",
       "      <td>0.1846</td>\n",
       "      <td>0</td>\n",
       "    </tr>\n",
       "    <tr>\n",
       "      <th>1</th>\n",
       "      <td>0</td>\n",
       "      <td>bldoor</td>\n",
       "      <td>0.1212</td>\n",
       "      <td>0</td>\n",
       "    </tr>\n",
       "    <tr>\n",
       "      <th>2</th>\n",
       "      <td>0</td>\n",
       "      <td>frdoor</td>\n",
       "      <td>0.0857</td>\n",
       "      <td>0</td>\n",
       "    </tr>\n",
       "    <tr>\n",
       "      <th>3</th>\n",
       "      <td>0</td>\n",
       "      <td>fldoor</td>\n",
       "      <td>0.0005</td>\n",
       "      <td>0</td>\n",
       "    </tr>\n",
       "    <tr>\n",
       "      <th>4</th>\n",
       "      <td>0</td>\n",
       "      <td>frwing</td>\n",
       "      <td>0.0666</td>\n",
       "      <td>0</td>\n",
       "    </tr>\n",
       "  </tbody>\n",
       "</table>\n",
       "</div>"
      ],
      "text/plain": [
       "   claim_id     part  urr_score  set\n",
       "0         0  bbumper     0.1846    0\n",
       "1         0   bldoor     0.1212    0\n",
       "2         0   frdoor     0.0857    0\n",
       "3         0   fldoor     0.0005    0\n",
       "4         0   frwing     0.0666    0"
      ]
     },
     "execution_count": 8,
     "metadata": {},
     "output_type": "execute_result"
    }
   ],
   "source": [
    "clf_out.head()"
   ]
  },
  {
   "cell_type": "code",
   "execution_count": 9,
   "metadata": {},
   "outputs": [
    {
     "name": "stdout",
     "output_type": "stream",
     "text": [
      "There are 1000000 rows and 4 columns in classifier_output\n",
      "This corrsponds to 100000 claims with each claim having 10 outputs for 10 part of car being considered\n"
     ]
    }
   ],
   "source": [
    "print(f\"There are {clf_out.shape[0]} rows and {clf_out.shape[1]} columns in classifier_output\")\n",
    "print(\"This corrsponds to 100000 claims with each claim having 10 outputs for 10 part of car being considered\")"
   ]
  },
  {
   "cell_type": "markdown",
   "metadata": {},
   "source": [
    "claim_id =  unique id for a claim.\n",
    "\n",
    "part = name of the part (there are 10 parts considered in this excercise)\n",
    "\n",
    "urr_score = score of the undamaged-repair-replace classifier\n",
    "\n",
    "set - identifier for train, val or test set"
   ]
  },
  {
   "cell_type": "code",
   "execution_count": 10,
   "metadata": {},
   "outputs": [
    {
     "data": {
      "text/plain": [
       "set\n",
       "0    900790\n",
       "1     50100\n",
       "2     49110\n",
       "dtype: int64"
      ]
     },
     "execution_count": 10,
     "metadata": {},
     "output_type": "execute_result"
    }
   ],
   "source": [
    "clf_out.groupby('set').size()"
   ]
  },
  {
   "cell_type": "markdown",
   "metadata": {},
   "source": [
    "\"Set\" represents the training-validation-test split of approx. 90%-5%-5% where 0-training, 1-validation, 2-test. We'll first separate the clf_out to training, validation and test set so that we can validate(iterative process) our optimum decision boundary and then use that decision boundary to report the performance on test set(only once)."
   ]
  },
  {
   "cell_type": "code",
   "execution_count": 11,
   "metadata": {
    "collapsed": true
   },
   "outputs": [],
   "source": [
    "train_clf = clf_out[clf_out['set']==0]\n",
    "val_clf = clf_out[clf_out['set']==1]\n",
    "test_clf = clf_out[clf_out['set']==2]"
   ]
  },
  {
   "cell_type": "code",
   "execution_count": 12,
   "metadata": {},
   "outputs": [
    {
     "data": {
      "text/plain": [
       "(900790, 4)"
      ]
     },
     "execution_count": 12,
     "metadata": {},
     "output_type": "execute_result"
    }
   ],
   "source": [
    "train_clf.shape"
   ]
  },
  {
   "cell_type": "markdown",
   "metadata": {},
   "source": [
    "Now we'll merge the **metadata** and **clf_out** dataframes. The unique identifier is the combination of \n",
    "**claim_id** and **part**. Since the metadata only contains information on **repair** and **replace** operaion,combining it with clf_out will lead to a lot of **NaN** values as clf_out has exactly 10 rows per **claim_id** i.e rows for even undamaged part which is not explicit in **metadata**. That's why I'm using a left outer join here. Therefore, we fill all the NaN values in **operation** column to **undamaged**. The remaining NaN values in other columns can be filled in by repeating the same value from one of the column for each claim but we'll ignore that at the moment as the other columns are not very useful for finding the optimum decision boundary from **urr_score**."
   ]
  },
  {
   "cell_type": "code",
   "execution_count": 13,
   "metadata": {
    "collapsed": true,
    "scrolled": true
   },
   "outputs": [],
   "source": [
    "train_merged = train_clf.merge(metadata,on=['claim_id','part'],how='left')\n",
    "train_merged['operation'].fillna('undamaged',inplace=True)\n",
    "\n",
    "val_merged = val_clf.merge(metadata,on=['claim_id','part'],how='left')\n",
    "val_merged['operation'].fillna('undamaged',inplace=True)\n",
    "\n",
    "test_merged= test_clf.merge(metadata,on=['claim_id','part'],how='left')\n",
    "test_merged['operation'].fillna('undamaged',inplace=True)"
   ]
  },
  {
   "cell_type": "code",
   "execution_count": 14,
   "metadata": {},
   "outputs": [
    {
     "name": "stdout",
     "output_type": "stream",
     "text": [
      "training set\n",
      "undamaged    80.801963\n",
      "replace      12.304311\n",
      "repair        6.893727\n",
      "Name: operation, dtype: float64\n",
      "validation set\n",
      "undamaged    80.752495\n",
      "replace      12.219561\n",
      "repair        7.027944\n",
      "Name: operation, dtype: float64\n",
      "test set\n",
      "undamaged    80.678070\n",
      "replace      12.378334\n",
      "repair        6.943596\n",
      "Name: operation, dtype: float64\n"
     ]
    }
   ],
   "source": [
    "# 81% of the data in train,val and test set is unadamaged, 12% replace and 7% repair. Very imbalanced dataset\n",
    "\n",
    "print(\"training set\")\n",
    "print(100*train_merged['operation'].value_counts()/train_merged.shape[0])\n",
    "\n",
    "print(\"validation set\")\n",
    "print(100*val_merged['operation'].value_counts()/val_merged.shape[0])\n",
    "\n",
    "print(\"test set\")\n",
    "print(100*test_merged['operation'].value_counts()/test_merged.shape[0])"
   ]
  },
  {
   "cell_type": "code",
   "execution_count": 15,
   "metadata": {
    "scrolled": true
   },
   "outputs": [
    {
     "data": {
      "image/png": "[encoded data removed]",
      "text/plain": [
       "<matplotlib.figure.Figure at 0x110fb1320>"
      ]
     },
     "metadata": {},
     "output_type": "display_data"
    }
   ],
   "source": [
    "# creating a boxplot to compare the distribution of urr_score for each category i.e undamaged, repair, replace\n",
    "plt.figure()\n",
    "data_to_plot = [train_merged.loc[train_merged['operation']=='undamaged','urr_score'].dropna().values,\n",
    "               train_merged.loc[train_merged['operation']=='repair','urr_score'].dropna().values,\n",
    "               train_merged.loc[train_merged['operation']=='replace','urr_score'].dropna().values]\n",
    "plt.boxplot(data_to_plot,notch=True);\n",
    "plt.xticks([1,2,3],['undamaged','repair','replace']);\n",
    "\n",
    "# we can see that the median 50% of the data for all categories is well separated but \n",
    "# some outliers are also present. We can visually see that the optimum boundaries might be around\n",
    "# 0.3 and 0.5. Let's solve it and see if that's the case."
   ]
  },
  {
   "cell_type": "code",
   "execution_count": 16,
   "metadata": {
    "collapsed": true
   },
   "outputs": [],
   "source": [
    "le = LabelEncoder()\n",
    "train_merged['operation']=le.fit_transform(train_merged['operation'])\n",
    "val_merged['operation']=le.transform(val_merged['operation'])\n",
    "test_merged['operation']=le.transform(test_merged['operation'])"
   ]
  },
  {
   "cell_type": "code",
   "execution_count": 17,
   "metadata": {},
   "outputs": [
    {
     "data": {
      "text/plain": [
       "array(['repair', 'replace', 'undamaged'], dtype=object)"
      ]
     },
     "execution_count": 17,
     "metadata": {},
     "output_type": "execute_result"
    }
   ],
   "source": [
    "le.classes_"
   ]
  },
  {
   "cell_type": "code",
   "execution_count": 18,
   "metadata": {},
   "outputs": [
    {
     "name": "stderr",
     "output_type": "stream",
     "text": [
      "/usr/local/Cellar/python3/3.6.2/Frameworks/Python.framework/Versions/3.6/lib/python3.6/site-packages/sklearn/preprocessing/label.py:171: DeprecationWarning: The truth value of an empty array is ambiguous. Returning False, but in future this will result in an error. Use `array.size > 0` to check that an array is not empty.\n",
      "  if diff:\n"
     ]
    },
    {
     "data": {
      "text/plain": [
       "array(['repair', 'repair', 'replace', 'replace', 'undamaged'],\n",
       "      dtype=object)"
      ]
     },
     "execution_count": 18,
     "metadata": {},
     "output_type": "execute_result"
    }
   ],
   "source": [
    "le.inverse_transform([0,0,1,1,2])"
   ]
  },
  {
   "cell_type": "code",
   "execution_count": 19,
   "metadata": {},
   "outputs": [
    {
     "data": {
      "text/plain": [
       "2    727856\n",
       "1    110836\n",
       "0     62098\n",
       "Name: operation, dtype: int64"
      ]
     },
     "execution_count": 19,
     "metadata": {},
     "output_type": "execute_result"
    }
   ],
   "source": [
    "train_merged['operation'].value_counts()"
   ]
  },
  {
   "cell_type": "markdown",
   "metadata": {},
   "source": [
    "We see that the dataset is very imbalanced(as expected) as most parts are usually undamaged. It's highly unlikely for a car to be completely damaged from all sides unless ofcourse the accident is too severe like in movies sometimes :).\n",
    "So we have to take this imbalance into account while defining our objective metric. \n",
    "\n",
    "Accuracy is definitely not a good metric here becuase of class imbalance.\n",
    "\n",
    "Precision and recall seems like a good fit. It's not always a good idea to keep two different metrics for the performance evaluation of a single classifier as it can lead to some conflicts between two metrics therefore i'll choose F1-measure as a single numerical metric here which combines precision and recall.\n",
    "\n",
    "There are 3 classes so we have to think about micro or macro f1-score. Macro calculates the precision and recall for each class and then takes it's average thus giving equal weightage to each class. This tells us how effective our model is on smaller classes(classes with low number of examples). therefore it seems like a good fit in our case.\n",
    "\n",
    "Micro f1-score directly calculates the average statistics from the data i.e equal weightage to each example. Therefore, larger class can easily dominate here. This measures the effectiveness of model on larger class. \n",
    "\n",
    "Since our problem is of auto-insurance industry where we want to assess the **damage** therefore our focus should be slightly more on smaller classes therefore MACRO averaging is a better metric in this case.\n",
    "\n",
    "Now we'll ignore the data points where the classifier_output is NaN i.e where the CNN wasn't able to recognise the part. Since this is a problem of the deep learning model rather than the URR-classifier.\n"
   ]
  },
  {
   "cell_type": "markdown",
   "metadata": {},
   "source": [
    "There are two decision boundaries for classifying the 3 classes. The simplest approach is to use a nested loop to loop over all combinations of decision boundaries and choose the one with maximum F1-Score to be the optimal one."
   ]
  },
  {
   "cell_type": "code",
   "execution_count": 20,
   "metadata": {
    "collapsed": true,
    "scrolled": true
   },
   "outputs": [],
   "source": [
    "#\n",
    "i=0.0\n",
    "train_scores = []\n",
    "val_scores =[]\n",
    "data = []\n",
    "count=1\n",
    "while i<1:\n",
    "    j=0.99\n",
    "    while j>i:\n",
    "        train_merged.loc[train_merged['urr_score']<=i,'acc']=2\n",
    "        train_merged.loc[(train_merged['urr_score']>i) & (train_merged['urr_score']<j) ,'acc']=0\n",
    "        train_merged.loc[train_merged['urr_score']>=j,'acc']=1\n",
    "        \n",
    "        val_merged.loc[val_merged['urr_score']<=i,'acc']=2\n",
    "        val_merged.loc[(val_merged['urr_score']>i) & (val_merged['urr_score']<j) ,'acc']=0\n",
    "        val_merged.loc[val_merged['urr_score']>=j,'acc']=1\n",
    " \n",
    "        t = train_merged[~np.isnan(train_merged['acc'])]\n",
    "        train_scores.append(f1_score(t['operation'].values,t['acc'].values,average='macro'))\n",
    "\n",
    "\n",
    "        v = val_merged[~np.isnan(val_merged['acc'])]\n",
    "        val_scores.append(f1_score(v['operation'].values,v['acc'].values,average='macro'))\n",
    "        \n",
    "        data.append((i,j))\n",
    "        j-=0.01\n",
    "    i+=0.01    \n",
    "    count+=1"
   ]
  },
  {
   "cell_type": "code",
   "execution_count": 21,
   "metadata": {
    "scrolled": true
   },
   "outputs": [
    {
     "data": {
      "text/plain": [
       "[<matplotlib.lines.Line2D at 0x110399518>]"
      ]
     },
     "execution_count": 21,
     "metadata": {},
     "output_type": "execute_result"
    },
    {
     "data": {
      "image/png": "[encoded data removed]",
      "text/plain": [
       "<matplotlib.figure.Figure at 0x110bd5470>"
      ]
     },
     "metadata": {},
     "output_type": "display_data"
    }
   ],
   "source": [
    "plt.title('MACRO F1-Score')\n",
    "plt.plot(train_scores,c='blue')\n",
    "plt.plot(val_scores,'red')"
   ]
  },
  {
   "cell_type": "code",
   "execution_count": 22,
   "metadata": {},
   "outputs": [
    {
     "data": {
      "text/plain": [
       "0.8140532645655993"
      ]
     },
     "execution_count": 22,
     "metadata": {},
     "output_type": "execute_result"
    }
   ],
   "source": [
    "i,j = data[np.argmax(val_scores)]\n",
    "\n",
    "test_merged.loc[test_merged['urr_score']<=i,'acc']=2\n",
    "test_merged.loc[(test_merged['urr_score']>i) & (test_merged['urr_score']<j) ,'acc']=0\n",
    "test_merged.loc[test_merged['urr_score']>=j,'acc']=1\n",
    "\n",
    "te = test_merged[~np.isnan(test_merged['acc'])] # removing the rows where classifier_output is NaN\n",
    "f1_score(te['operation'].values,te['acc'].values,average='micro')"
   ]
  },
  {
   "cell_type": "code",
   "execution_count": 23,
   "metadata": {},
   "outputs": [
    {
     "data": {
      "text/plain": [
       "array([[ 1465,   452,  1388],\n",
       "       [ 1190,  4327,   480],\n",
       "       [ 3323,  1315, 29879]])"
      ]
     },
     "execution_count": 23,
     "metadata": {},
     "output_type": "execute_result"
    }
   ],
   "source": [
    "confusion_matrix(te['operation'],te['acc'])"
   ]
  },
  {
   "cell_type": "code",
   "execution_count": 24,
   "metadata": {},
   "outputs": [
    {
     "name": "stdout",
     "output_type": "stream",
     "text": [
      "macro\n",
      "[[0.24506524 0.07417132 0.04372067]\n",
      " [0.19906323 0.71004266 0.01511954]\n",
      " [0.55587153 0.21578602 0.94115979]]\n"
     ]
    }
   ],
   "source": [
    "print('macro')\n",
    "print(confusion_matrix(te['operation'],te['acc'])/np.sum(confusion_matrix(te['operation'],te['acc']),axis=0))"
   ]
  },
  {
   "cell_type": "code",
   "execution_count": 26,
   "metadata": {},
   "outputs": [
    {
     "name": "stdout",
     "output_type": "stream",
     "text": [
      "The decision boundaries are 0.35000000000000014 and 0.5299999999999996\n"
     ]
    }
   ],
   "source": [
    "print(f'The decision boundaries are {i} and {j}')"
   ]
  },
  {
   "cell_type": "markdown",
   "metadata": {},
   "source": [
    "# Discuss ways you would scale your code to ingest more data, i.e. of the order of millions. Also,  discuss ways you would further improve the performance of the classifiers if you had more time."
   ]
  },
  {
   "cell_type": "markdown",
   "metadata": {},
   "source": [
    "1. Better algorithmic design as right now the complexity of my code is O(n^2). We might be able to turn this into O(n) or O(nlog(n)) by using clever implentation of the same problem where we only iterate over the significant values of decision boundaries.\n",
    "2. Use Big data tools.\n",
    "3. Parallel computing.\n",
    "4. Maybe build a different decision boundary for each part? This might improve the performance of the classifiers.\n",
    "5. I'd like to know the inner workings of URR_classifier and try to improve it. Given the opportunity to build the URR-classifier from scratch, I'd like to try a 3-d one hot encoded output for repair, replace and undamaged category. This will give us the probability of each part and might result is a bit better performance. I think, this is worth trying."
   ]
  },
  {
   "cell_type": "markdown",
   "metadata": {},
   "source": [
    "# Bonus Task - Predict cost of performing the operation"
   ]
  },
  {
   "cell_type": "markdown",
   "metadata": {},
   "source": [
    "The cost of replacing or repairing a part of any car depends on the car model, the amount of damage and the labour charges e.g the parts of rolls royce phantom are much more expensive than parts of kia Rio5 etc. So for replacing a part the car model is the most important feature but for repairing the car the amount of damage and labour charges are important too.\n",
    "\n",
    "The task at hand is to build a regression model to determine the part_price and labour amount. \n",
    "\n",
    "The part_price can be directly found from a lookup table which has car model as the keys. We don't need to build a machine learning model for that. We can also use the data which shows whether the added part is a new one or a used one. The new part is the maximum price and if it's a used one it'll be a bit less expensive. If we have this data we can just lookup the price from the database.\n",
    "\n",
    "The labour_amt depends on the amount of damage, the particular part and labour charges of the bodyshop. I think we don't need to build a machine learning model for this task either as it can simply be a lookup table. \n",
    "\n",
    "**Solution** - \n",
    "Build a database with information on repalcement parts of different car models as well as labour charges of the bodyshop for different parts of the car. This database can be created by web scraping car model vs parts price data. The bodyshop is going to contact the insurance company with the images of the damaged car so we can get the labour charges for different parts of the car from that bodyshop for that particular case and update our database as new cases come in.\n",
    "\n",
    "\n"
   ]
  }
 ],
 "metadata": {
  "kernelspec": {
   "display_name": "Python 3",
   "language": "python",
   "name": "python3"
  },
  "language_info": {
   "codemirror_mode": {
    "name": "ipython",
    "version": 3
   },
   "file_extension": ".py",
   "mimetype": "text/x-python",
   "name": "python",
   "nbconvert_exporter": "python",
   "pygments_lexer": "ipython3",
   "version": "3.6.2"
  }
 },
 "nbformat": 4,
 "nbformat_minor": 2
}
